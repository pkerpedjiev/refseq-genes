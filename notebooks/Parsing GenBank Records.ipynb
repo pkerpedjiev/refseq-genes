{
 "cells": [
  {
   "cell_type": "code",
   "execution_count": 16,
   "metadata": {
    "collapsed": true
   },
   "outputs": [],
   "source": [
    "import Bio.SeqIO"
   ]
  },
  {
   "cell_type": "code",
   "execution_count": 17,
   "metadata": {},
   "outputs": [
    {
     "data": {
      "text/plain": [
       "['Align',\n",
       " 'Alphabet',\n",
       " 'BiopythonDeprecationWarning',\n",
       " 'BiopythonExperimentalWarning',\n",
       " 'BiopythonParserWarning',\n",
       " 'BiopythonWarning',\n",
       " 'Data',\n",
       " 'File',\n",
       " 'GenBank',\n",
       " 'MissingExternalDependencyError',\n",
       " 'MissingPythonDependencyError',\n",
       " 'Seq',\n",
       " 'SeqFeature',\n",
       " 'SeqIO',\n",
       " 'SeqRecord',\n",
       " 'Sequencing',\n",
       " 'SwissProt',\n",
       " '__builtins__',\n",
       " '__cached__',\n",
       " '__doc__',\n",
       " '__file__',\n",
       " '__loader__',\n",
       " '__name__',\n",
       " '__package__',\n",
       " '__path__',\n",
       " '__spec__',\n",
       " '__version__',\n",
       " '_py3k']"
      ]
     },
     "execution_count": 17,
     "metadata": {},
     "output_type": "execute_result"
    }
   ],
   "source": [
    "dir(Bio)"
   ]
  },
  {
   "cell_type": "code",
   "execution_count": 52,
   "metadata": {},
   "outputs": [
    {
     "name": "stdout",
     "output_type": "stream",
     "text": [
      "record: NC_000017.11\n"
     ]
    }
   ],
   "source": [
    "with open(\"../data/hg38.gb\") as handle:\n",
    "    for record in Bio.SeqIO.parse(handle, 'genbank'):\n",
    "        print(\"record:\", record.id)\n",
    "        #print(\"dir:\", dir(record))"
   ]
  },
  {
   "cell_type": "code",
   "execution_count": 59,
   "metadata": {},
   "outputs": [
    {
     "name": "stdout",
     "output_type": "stream",
     "text": [
      "source\n",
      "gene\n",
      "gene\n",
      "gene\n",
      "ncRNA\n",
      "### ncRNA ###\n",
      "feature type: ncRNA\n",
      "location: join{[97268:97400](-), [88640:88705](-), [79255:79378](-), [76722:76919](-), [75813:75878](-), [69249:69307](-), [68923:69156](-), [68097:68138](-)}\n",
      "qualifiers:\n",
      "    Key: db_xref, Value: ['GeneID:105377826']\n",
      "    Key: gene, Value: ['LOC105377826']\n",
      "    Key: ncRNA_class, Value: ['lncRNA']\n",
      "    Key: note, Value: ['Derived by automated computational analysis using gene prediction method: Gnomon. Supporting evidence includes similarity to: 100% coverage of the annotated genomic feature by RNAseq alignments, including 11 samples with support for all annotated introns']\n",
      "    Key: product, Value: ['uncharacterized LOC105377826, transcript variant X2']\n",
      "    Key: transcript_id, Value: ['XR_001752724.1']\n",
      "\n",
      "dir ['__add__', '__class__', '__contains__', '__delattr__', '__dict__', '__dir__', '__doc__', '__eq__', '__format__', '__ge__', '__getattribute__', '__gt__', '__hash__', '__init__', '__init_subclass__', '__iter__', '__le__', '__len__', '__lt__', '__module__', '__ne__', '__new__', '__nonzero__', '__radd__', '__reduce__', '__reduce_ex__', '__repr__', '__setattr__', '__sizeof__', '__str__', '__subclasshook__', '__weakref__', '_flip', '_get_strand', '_set_strand', '_shift', 'end', 'extract', 'nofuzzy_end', 'nofuzzy_start', 'operator', 'parts', 'ref', 'ref_db', 'start', 'strand']\n",
      "parts [FeatureLocation(ExactPosition(97268), ExactPosition(97400), strand=-1), FeatureLocation(ExactPosition(88640), ExactPosition(88705), strand=-1), FeatureLocation(ExactPosition(79255), ExactPosition(79378), strand=-1), FeatureLocation(ExactPosition(76722), ExactPosition(76919), strand=-1), FeatureLocation(ExactPosition(75813), ExactPosition(75878), strand=-1), FeatureLocation(ExactPosition(69249), ExactPosition(69307), strand=-1), FeatureLocation(ExactPosition(68923), ExactPosition(69156), strand=-1), FeatureLocation(ExactPosition(68097), ExactPosition(68138), strand=-1)]\n",
      "genes: [{'start': 61545, 'end': 64040, 'strand': -1, 'name': 'LOC101929817', 'geneId': '101929817'}, {'start': 64433, 'end': 66228, 'strand': -1, 'name': 'LOC102723777', 'geneId': '102723777'}, {'start': 68097, 'end': 97400, 'strand': -1, 'name': 'LOC105377826', 'geneId': '105377826'}]\n"
     ]
    }
   ],
   "source": [
    "genes = []\n",
    "\n",
    "def parse_location(location_str):\n",
    "    return location_str.split('..')\n",
    "\n",
    "def parse_string(location_str):\n",
    "    if location_str.index('complement') == 0:\n",
    "        return '-'\n",
    "    else:\n",
    "        return '+'\n",
    "\n",
    "count = 0\n",
    "genes = []\n",
    "for feature in record.features:\n",
    "    #print(\"dir\", dir(feature))\n",
    "    print(feature.type)\n",
    "    #print(feature.location, type(feature.location))\n",
    "    #print(dir(feature))\n",
    "    if feature.type == 'gene':\n",
    "        gene = {}\n",
    "        genes += [gene]\n",
    "        gene['start'] = feature.location.start.position\n",
    "        gene['end'] = feature.location.end.position\n",
    "        gene['strand'] = feature.location.strand\n",
    "        #print(dir(feature))\n",
    "        #print(\"qulaifiers:\", feature.qualifiers)\n",
    "        gene['name'] = feature.qualifiers['gene'][0]\n",
    "        \n",
    "        parts = feature.qualifiers['db_xref'][0].split(':')\n",
    "        if parts[0] == 'GeneID':\n",
    "            gene['geneId'] = parts[1]\n",
    "        \n",
    "        #print(\"gene\", gene)\n",
    "    if feature.type == 'CDS':\n",
    "        cds = {}\n",
    "        cds['start'] = feature.location.start.position\n",
    "        cds['end'] = feature.location.end.position\n",
    "        gene['cds'] = cds\n",
    "    if feature.type == 'ncRNA':\n",
    "        print(\"### ncRNA ###\")\n",
    "        print('feature', feature)\n",
    "        print('dir', dir(feature.location))\n",
    "        print(\"parts\", feature.location.parts)\n",
    "        break\n",
    "    if feature.type == 'mRNA':\n",
    "        print(\"#### mRNA ###\")\n",
    "        print('feature:', feature)\n",
    "    count += 1\n",
    "    if count > 40:\n",
    "        break\n",
    "\n",
    "print(\"genes:\", genes)"
   ]
  },
  {
   "cell_type": "code",
   "execution_count": 60,
   "metadata": {},
   "outputs": [
    {
     "data": {
      "text/plain": [
       "'1.68'"
      ]
     },
     "execution_count": 60,
     "metadata": {},
     "output_type": "execute_result"
    }
   ],
   "source": [
    "Bio.__version__"
   ]
  },
  {
   "cell_type": "code",
   "execution_count": 27,
   "metadata": {},
   "outputs": [
    {
     "data": {
      "text/plain": [
       "['__class__',\n",
       " '__delattr__',\n",
       " '__dict__',\n",
       " '__dir__',\n",
       " '__doc__',\n",
       " '__eq__',\n",
       " '__format__',\n",
       " '__ge__',\n",
       " '__getattribute__',\n",
       " '__gt__',\n",
       " '__hash__',\n",
       " '__init__',\n",
       " '__init_subclass__',\n",
       " '__le__',\n",
       " '__lt__',\n",
       " '__module__',\n",
       " '__ne__',\n",
       " '__new__',\n",
       " '__reduce__',\n",
       " '__reduce_ex__',\n",
       " '__repr__',\n",
       " '__setattr__',\n",
       " '__sizeof__',\n",
       " '__str__',\n",
       " '__subclasshook__',\n",
       " '__weakref__',\n",
       " 'key',\n",
       " 'location',\n",
       " 'qualifiers']"
      ]
     },
     "execution_count": 27,
     "metadata": {},
     "output_type": "execute_result"
    }
   ],
   "source": [
    "dir(feature)"
   ]
  },
  {
   "cell_type": "code",
   "execution_count": null,
   "metadata": {
    "collapsed": true
   },
   "outputs": [],
   "source": []
  }
 ],
 "metadata": {
  "kernelspec": {
   "display_name": "Python 3",
   "language": "python",
   "name": "python3"
  },
  "language_info": {
   "codemirror_mode": {
    "name": "ipython",
    "version": 3
   },
   "file_extension": ".py",
   "mimetype": "text/x-python",
   "name": "python",
   "nbconvert_exporter": "python",
   "pygments_lexer": "ipython3",
   "version": "3.6.1"
  }
 },
 "nbformat": 4,
 "nbformat_minor": 2
}
