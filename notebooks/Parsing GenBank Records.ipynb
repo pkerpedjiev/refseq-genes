{
 "cells": [
  {
   "cell_type": "code",
   "execution_count": 7,
   "metadata": {
    "collapsed": true
   },
   "outputs": [],
   "source": [
    "import Bio.SeqIO"
   ]
  },
  {
   "cell_type": "code",
   "execution_count": 8,
   "metadata": {},
   "outputs": [
    {
     "data": {
      "text/plain": [
       "['Align',\n",
       " 'AlignIO',\n",
       " 'Alphabet',\n",
       " 'BiopythonDeprecationWarning',\n",
       " 'BiopythonExperimentalWarning',\n",
       " 'BiopythonParserWarning',\n",
       " 'BiopythonWarning',\n",
       " 'Data',\n",
       " 'File',\n",
       " 'GenBank',\n",
       " 'MissingExternalDependencyError',\n",
       " 'MissingPythonDependencyError',\n",
       " 'Nexus',\n",
       " 'Seq',\n",
       " 'SeqFeature',\n",
       " 'SeqIO',\n",
       " 'SeqRecord',\n",
       " 'Sequencing',\n",
       " 'SwissProt',\n",
       " '__builtins__',\n",
       " '__cached__',\n",
       " '__doc__',\n",
       " '__file__',\n",
       " '__loader__',\n",
       " '__name__',\n",
       " '__package__',\n",
       " '__path__',\n",
       " '__spec__',\n",
       " '__version__',\n",
       " '_py3k']"
      ]
     },
     "execution_count": 8,
     "metadata": {},
     "output_type": "execute_result"
    }
   ],
   "source": [
    "dir(Bio)"
   ]
  },
  {
   "cell_type": "code",
   "execution_count": 66,
   "metadata": {},
   "outputs": [
    {
     "name": "stdout",
     "output_type": "stream",
     "text": [
      "record: NC_000017.11\n"
     ]
    }
   ],
   "source": [
    "with open(\"../data/hg38.gb\") as handle:\n",
    "    for record in Bio.SeqIO.parse(handle, 'genbank'):\n",
    "        print(\"record:\", record.id)\n",
    "        #print(\"dir:\", dir(record))"
   ]
  },
  {
   "cell_type": "code",
   "execution_count": 79,
   "metadata": {},
   "outputs": [
    {
     "name": "stderr",
     "output_type": "stream",
     "text": [
      "--2018-01-03 10:22:32--  ftp://ftp.ncbi.nlm.nih.gov/genomes/all/GCF/000/001/405/GCF_000001405.33_GRCh38.p7/GCF_000001405.33_GRCh38.p7_assembly_report.txt\n",
      "           => ‘/tmp/assembly.txt’\n",
      "Resolving ftp.ncbi.nlm.nih.gov... 130.14.250.12, 2607:f220:41e:250::11\n",
      "Connecting to ftp.ncbi.nlm.nih.gov|130.14.250.12|:21... connected.\n",
      "Logging in as anonymous ... Logged in!\n",
      "==> SYST ... done.    ==> PWD ... done.\n",
      "==> TYPE I ... done.  ==> CWD (1) /genomes/all/GCF/000/001/405/GCF_000001405.33_GRCh38.p7 ... done.\n",
      "==> SIZE GCF_000001405.33_GRCh38.p7_assembly_report.txt ... 60131\n",
      "==> PASV ... done.    ==> RETR GCF_000001405.33_GRCh38.p7_assembly_report.txt ... done.\n",
      "Length: 60131 (59K) (unauthoritative)\n",
      "\n",
      "     0K .......... .......... .......... .......... .......... 85% 1.56M 0s\n",
      "    50K ........                                              100% 10.4M=0.03s\n",
      "\n",
      "2018-01-03 10:22:32 (1.79 MB/s) - ‘/tmp/assembly.txt’ saved [60131]\n",
      "\n"
     ]
    }
   ],
   "source": [
    "%%bash\n",
    "wget -O /tmp/assembly.txt ftp://ftp.ncbi.nlm.nih.gov/genomes/all/GCF/000/001/405/GCF_000001405.33_GRCh38.p7/GCF_000001405.33_GRCh38.p7_assembly_report.txt\n",
    "cat /tmp/assembly.txt | grep \"^#\" | tail -n 1 > /tmp/assembly_headers.txt\n",
    "cat /tmp/assembly.txt | grep -v \"^#\" > /tmp/assembly_processed.txt\n"
   ]
  },
  {
   "cell_type": "code",
   "execution_count": 81,
   "metadata": {},
   "outputs": [
    {
     "name": "stdout",
     "output_type": "stream",
     "text": [
      "['Sequence-Name', 'Sequence-Role', 'Assigned-Molecule', 'Assigned-Molecule-Location/Type', 'GenBank-Accn', 'Relationship', 'RefSeq-Accn', 'Assembly-Unit', 'Sequence-Length', 'UCSC-style-name']\n"
     ]
    }
   ],
   "source": [
    "with open('/tmp/assembly_headers.txt', 'r') as f:\n",
    "    headers = f.readlines()[0].strip().split()[1:]\n",
    "    print(headers)"
   ]
  },
  {
   "cell_type": "code",
   "execution_count": 65,
   "metadata": {},
   "outputs": [
    {
     "name": "stdout",
     "output_type": "stream",
     "text": [
      "type: source\n",
      "location: [0:83257441](+)\n",
      "qualifiers:\n",
      "    Key: chromosome, Value: ['17']\n",
      "    Key: db_xref, Value: ['taxon:9606']\n",
      "    Key: mol_type, Value: ['genomic DNA']\n",
      "    Key: organism, Value: ['Homo sapiens']\n",
      "\n",
      "count: 16605\n"
     ]
    }
   ],
   "source": [
    "genes = []\n",
    "\n",
    "def parse_location(location_str):\n",
    "    return location_str.split('..')\n",
    "\n",
    "def parse_string(location_str):\n",
    "    if location_str.index('complement') == 0:\n",
    "        return '-'\n",
    "    else:\n",
    "        return '+'\n",
    "\n",
    "count = 0\n",
    "genes = {}\n",
    "ncRNAs = []\n",
    "\n",
    "def parse_entity(feature):\n",
    "    '''\n",
    "    Parse a transcribed entity\n",
    "    '''\n",
    "    entity = {}\n",
    "    # print('feature:', feature)\n",
    "    \n",
    "    entity['start'] = feature.location.start.position\n",
    "    entity['end'] = feature.location.end.position\n",
    "    entity['strand'] = '+' if feature.location.strand == 1 else '-'\n",
    "    #print(dir(feature))\n",
    "    #print(\"qulaifiers:\", feature.qualifiers)\n",
    "    if 'gene' in feature.qualifiers:\n",
    "        entity['name'] = feature.qualifiers['gene'][0]\n",
    "    \n",
    "    \n",
    "    for part in feature.location.parts:\n",
    "        entity['location_parts'] = {\n",
    "            'start': part.start.position,\n",
    "            'end': part.end.position,\n",
    "            'strand': '+' if part.strand == 1 else '-',\n",
    "        }\n",
    "\n",
    "    for xref in feature.qualifiers['db_xref']:\n",
    "        parts = xref.split(':')\n",
    "        if parts[0] == 'GeneID':\n",
    "            entity['geneId'] = parts[1]\n",
    "            break\n",
    "\n",
    "    if 'transcript_id' in feature.qualifiers:\n",
    "        entity['transcriptId'] = feature.qualifiers['transcript_id'][0]\n",
    "\n",
    "    #print('entity:', entity)\n",
    "    return entity\n",
    "\n",
    "for feature in record.features:\n",
    "    # print(\"dir\", dir(feature))\n",
    "    # print(feature.type)\n",
    "    # print(feature.location, type(feature.location))\n",
    "    # print(dir(feature))\n",
    "    curr_entity = parse_entity(feature)\n",
    "    curr_entity['type'] = feature.type\n",
    "    \n",
    "    if feature.type == 'gene':\n",
    "        curr_entity['mRNAs'] = []\n",
    "        genes[curr_entity['geneId']] = curr_entity\n",
    "        \n",
    "        if 'pseudo' in feature.qualifiers:\n",
    "            curr_entity['type'] = 'pseudo'\n",
    "        \n",
    "        # print(\"gene\", curr_entity)\n",
    "    elif feature.type == 'CDS':\n",
    "        #print(\"feature:\", feature)\n",
    "\n",
    "        cds = {}\n",
    "        cds['start'] = feature.location.start.position\n",
    "        cds['end'] = feature.location.end.position\n",
    "        genes[curr_entity['geneId']]['cds'] = cds\n",
    "    elif feature.type == 'ncRNA':\n",
    "        genes[curr_entity['geneId']] = curr_entity\n",
    "    elif feature.type == 'mRNA':\n",
    "        if 'mRNAs' not in genes[curr_entity['geneId']]:\n",
    "            genes[curr_entity['geneId']]['mRNAs'] = []\n",
    "        genes[curr_entity['geneId']]['mRNAs'] += [curr_entity]\n",
    "    elif feature.type == 'misc_RNA':\n",
    "        genes[curr_entity['geneId']] = curr_entity        \n",
    "        #print(feature)\n",
    "    elif feature.type == 'precursor_RNA':\n",
    "        genes[curr_entity['geneId']] = curr_entity\n",
    "    elif feature.type == 'tRNA':\n",
    "        genes[curr_entity['geneId']] = curr_entity\n",
    "    else:\n",
    "        print(feature)\n",
    "        \n",
    "    count += 1\n",
    "\n",
    "import json\n",
    "with open('/tmp/out.json', 'w') as f:\n",
    "    json.dump(genes, f, indent=2)\n",
    "print(\"count:\", count)"
   ]
  },
  {
   "cell_type": "markdown",
   "metadata": {},
   "source": [
    "Bio.__version__"
   ]
  },
  {
   "cell_type": "code",
   "execution_count": 12,
   "metadata": {},
   "outputs": [
    {
     "data": {
      "text/plain": [
       "['__bool__',\n",
       " '__class__',\n",
       " '__contains__',\n",
       " '__delattr__',\n",
       " '__dict__',\n",
       " '__dir__',\n",
       " '__doc__',\n",
       " '__eq__',\n",
       " '__format__',\n",
       " '__ge__',\n",
       " '__getattribute__',\n",
       " '__gt__',\n",
       " '__hash__',\n",
       " '__init__',\n",
       " '__init_subclass__',\n",
       " '__iter__',\n",
       " '__le__',\n",
       " '__len__',\n",
       " '__lt__',\n",
       " '__module__',\n",
       " '__ne__',\n",
       " '__new__',\n",
       " '__nonzero__',\n",
       " '__reduce__',\n",
       " '__reduce_ex__',\n",
       " '__repr__',\n",
       " '__setattr__',\n",
       " '__sizeof__',\n",
       " '__str__',\n",
       " '__subclasshook__',\n",
       " '__weakref__',\n",
       " '_flip',\n",
       " '_get_location_operator',\n",
       " '_get_ref',\n",
       " '_get_ref_db',\n",
       " '_get_strand',\n",
       " '_set_location_operator',\n",
       " '_set_ref',\n",
       " '_set_ref_db',\n",
       " '_set_strand',\n",
       " '_shift',\n",
       " 'extract',\n",
       " 'id',\n",
       " 'location',\n",
       " 'location_operator',\n",
       " 'qualifiers',\n",
       " 'ref',\n",
       " 'ref_db',\n",
       " 'strand',\n",
       " 'type']"
      ]
     },
     "execution_count": 12,
     "metadata": {},
     "output_type": "execute_result"
    }
   ],
   "source": [
    "dir(feature)"
   ]
  },
  {
   "cell_type": "code",
   "execution_count": 70,
   "metadata": {
    "collapsed": true
   },
   "outputs": [],
   "source": [
    "a = [25, 33, 47, 53, 62, 64, 78, 86, 99, 144, 164, 217, 219, 222, 240, 257, 356]"
   ]
  },
  {
   "cell_type": "code",
   "execution_count": 75,
   "metadata": {},
   "outputs": [],
   "source": [
    "%matplotlib inline"
   ]
  },
  {
   "cell_type": "code",
   "execution_count": 77,
   "metadata": {},
   "outputs": [
    {
     "data": {
      "text/plain": [
       "[<matplotlib.lines.Line2D at 0x110b87780>]"
      ]
     },
     "execution_count": 77,
     "metadata": {},
     "output_type": "execute_result"
    },
    {
     "data": {
      "image/png": "[encoded data removed]",
      "text/plain": [
       "<matplotlib.figure.Figure at 0x110ac02e8>"
      ]
     },
     "metadata": {},
     "output_type": "display_data"
    }
   ],
   "source": [
    "import matplotlib.pyplot as plt\n",
    "\n",
    "plt.plot(range(len(a)-1), [a[i+1] - a[i] for i in range(len(a)-1)])"
   ]
  },
  {
   "cell_type": "code",
   "execution_count": null,
   "metadata": {
    "collapsed": true
   },
   "outputs": [],
   "source": []
  }
 ],
 "metadata": {
  "kernelspec": {
   "display_name": "Python 3",
   "language": "python",
   "name": "python3"
  },
  "language_info": {
   "codemirror_mode": {
    "name": "ipython",
    "version": 3
   },
   "file_extension": ".py",
   "mimetype": "text/x-python",
   "name": "python",
   "nbconvert_exporter": "python",
   "pygments_lexer": "ipython3",
   "version": "3.6.1"
  }
 },
 "nbformat": 4,
 "nbformat_minor": 2
}
